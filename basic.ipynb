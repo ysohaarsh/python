{
 "cells": [
  {
   "cell_type": "code",
   "execution_count": 1,
   "metadata": {},
   "outputs": [
    {
     "name": "stdout",
     "output_type": "stream",
     "text": [
      "The value of D is: 860\n"
     ]
    }
   ],
   "source": [
    "x = int(input(\"Enter the value of x: \"))\n",
    "y = int(input(\"Enter the value of y: \"))\n",
    "z = int(input(\"Enter the value of z: \"))\n",
    "a = int(input(\"Enter the value of a: \"))\n",
    "b = int(input(\"Enter the value of b: \"))\n",
    "c = int(input(\"Enter the value of c: \"))\n",
    "\n",
    "D = (x+y)*z**a//b+c\n",
    "\n",
    "print(\"The value of D is:\", D)"
   ]
  },
  {
   "cell_type": "code",
   "execution_count": 2,
   "metadata": {},
   "outputs": [
    {
     "name": "stdout",
     "output_type": "stream",
     "text": [
      "16\n"
     ]
    }
   ],
   "source": [
    "x = 1\n",
    "y = 2\n",
    "z = 3\n",
    "a = 2\n",
    "b = 2\n",
    "c = 3\n",
    "\n",
    "D = (x+y)*z**a//b+c\n",
    "\n",
    "print(D)"
   ]
  },
  {
   "cell_type": "code",
   "execution_count": 3,
   "metadata": {},
   "outputs": [
    {
     "name": "stdout",
     "output_type": "stream",
     "text": [
      "5 is odd\n"
     ]
    }
   ],
   "source": [
    "num=int(input(\"Enter a  nuber:\"))\n",
    "if num%2==0:\n",
    "    print(num,\"is even\")\n",
    "else:\n",
    "    print(num,\"is odd\")"
   ]
  },
  {
   "cell_type": "code",
   "execution_count": 4,
   "metadata": {},
   "outputs": [
    {
     "name": "stdout",
     "output_type": "stream",
     "text": [
      "6 is even\n"
     ]
    }
   ],
   "source": [
    "num=int(input(\"enter a number:\"))\n",
    "if num%2==0:\n",
    "    print(num,\"is even\")\n",
    "else:\n",
    "    print(num,\"is odd\")"
   ]
  },
  {
   "cell_type": "code",
   "execution_count": 9,
   "metadata": {},
   "outputs": [
    {
     "name": "stdout",
     "output_type": "stream",
     "text": [
      "Entered temperature in celius 55.0\n",
      "the temperature in farenheit is 131.0\n"
     ]
    }
   ],
   "source": [
    "c=float(input(\"Enter the temperature in celius:\"))\n",
    "print(\"Entered temperature in celius\",c)\n",
    "\n",
    "f=(9/5)*c+32\n",
    "\n",
    "print(\"the temperature in farenheit is\",f)"
   ]
  },
  {
   "cell_type": "code",
   "execution_count": 6,
   "metadata": {},
   "outputs": [
    {
     "name": "stdout",
     "output_type": "stream",
     "text": [
      "The average of the entered numbers is: 3.8\n"
     ]
    }
   ],
   "source": [
    "n = int(input(\"Enter the number of values to be averaged: \"))\n",
    "\n",
    "total = 0\n",
    "\n",
    "for i in range(n):\n",
    "    num = float(input(\"Enter a number: \"))\n",
    "    total += num\n",
    "\n",
    "avg = total / n\n",
    "\n",
    "print(\"The average of the entered numbers is:\", avg)"
   ]
  },
  {
   "cell_type": "code",
   "execution_count": 10,
   "metadata": {},
   "outputs": [
    {
     "name": "stdout",
     "output_type": "stream",
     "text": [
      "The product of the entered numbers is: 10080.0\n"
     ]
    }
   ],
   "source": [
    "n = int(input(\"Enter the number of values to be multiplied: \"))\n",
    "\n",
    "prod = 1\n",
    "\n",
    "for i in range(n):\n",
    "    num = float(input(\"Enter a number: \"))\n",
    "    prod *= num\n",
    "\n",
    "print(\"The product of the entered numbers is:\", prod)"
   ]
  },
  {
   "cell_type": "code",
   "execution_count": 13,
   "metadata": {},
   "outputs": [
    {
     "name": "stdout",
     "output_type": "stream",
     "text": [
      "entered radius is 5.0\n",
      "The circumference of the circle is: 31.41592653589793\n",
      "The area of the circle is: 78.53981633974483\n"
     ]
    }
   ],
   "source": [
    "import math\n",
    "\n",
    "radius = float(input(\"Enter the radius of the circle: \"))\n",
    "print(\"entered radius is\",radius)\n",
    "\n",
    "circumference = 2 * math.pi * radius\n",
    "area = math.pi * radius ** 2\n",
    "\n",
    "print(\"The circumference of the circle is:\", circumference)\n",
    "print(\"The area of the circle is:\", area)\n"
   ]
  },
  {
   "cell_type": "code",
   "execution_count": 14,
   "metadata": {},
   "outputs": [
    {
     "name": "stdout",
     "output_type": "stream",
     "text": [
      "Entered integer: 123\n",
      "The integer in reverse is: 321\n"
     ]
    }
   ],
   "source": [
    "num = int(input(\"Enter an integer: \"))\n",
    "print(\"Entered integer:\",num)\n",
    "\n",
    "reverse = 0\n",
    "\n",
    "while num != 0:\n",
    "    remainder = num % 10\n",
    "    reverse = reverse * 10 + remainder\n",
    "    num = num // 10\n",
    "\n",
    "print(\"The integer in reverse is:\", reverse)\n"
   ]
  },
  {
   "cell_type": "code",
   "execution_count": 7,
   "metadata": {},
   "outputs": [
    {
     "name": "stdout",
     "output_type": "stream",
     "text": [
      "12\n",
      "15\n",
      "18\n",
      "21\n",
      "24\n",
      "27\n",
      "30\n",
      "33\n",
      "36\n",
      "39\n",
      "42\n",
      "45\n",
      "48\n"
     ]
    }
   ],
   "source": [
    "for i in range(10, 51):\n",
    "    if i % 3 == 0:\n",
    "        print(i)\n"
   ]
  },
  {
   "cell_type": "code",
   "execution_count": 15,
   "metadata": {},
   "outputs": [
    {
     "name": "stdout",
     "output_type": "stream",
     "text": [
      "2\n",
      "3\n",
      "5\n",
      "7\n",
      "11\n",
      "13\n",
      "17\n",
      "19\n"
     ]
    }
   ],
   "source": [
    "n = int(input(\"Enter a positive integer: \"))\n",
    "\n",
    "for i in range(2, n+1):\n",
    "    is_prime = True\n",
    "    for j in range(2, int(i**0.5)+1):\n",
    "        if i % j == 0:\n",
    "            is_prime = False\n",
    "            break\n",
    "    if is_prime:\n",
    "        print(i)\n"
   ]
  },
  {
   "cell_type": "code",
   "execution_count": 20,
   "metadata": {},
   "outputs": [
    {
     "name": "stdout",
     "output_type": "stream",
     "text": [
      "coefficient of a: 6.0\n",
      "coefficient of b: 36.0\n",
      "coefficient of c: 6.0\n",
      "The roots are:\n",
      "Root 1: (-0.17157287525381015+0j)\n",
      "Root 2: (-5.828427124746189+0j)\n"
     ]
    }
   ],
   "source": [
    "import cmath\n",
    "\n",
    "a = float(input(\"Enter coefficient a: \"))\n",
    "print(\"coefficient of a:\",a)\n",
    "b = float(input(\"Enter coefficient b: \"))\n",
    "print(\"coefficient of b:\",b)\n",
    "c = float(input(\"Enter coefficient c: \"))\n",
    "print(\"coefficient of c:\",c)\n",
    "\n",
    "# Calculate discriminant\n",
    "d = b**2 - 4*a*c\n",
    "\n",
    "# Find roots\n",
    "root1 = (-b + cmath.sqrt(d)) / (2*a)\n",
    "root2 = (-b - cmath.sqrt(d)) / (2*a)\n",
    "\n",
    "# Print roots\n",
    "print(\"The roots are:\")\n",
    "print(\"Root 1:\", root1)\n",
    "print(\"Root 2:\", root2)\n"
   ]
  },
  {
   "cell_type": "code",
   "execution_count": null,
   "metadata": {},
   "outputs": [],
   "source": []
  },
  {
   "cell_type": "code",
   "execution_count": 21,
   "metadata": {},
   "outputs": [
    {
     "name": "stdout",
     "output_type": "stream",
     "text": [
      "The factorial of 10 is 3628800\n"
     ]
    }
   ],
   "source": [
    "def factorial(n):\n",
    "    if n == 1:\n",
    "        return 1\n",
    "    else:\n",
    "        return n * factorial(n-1)\n",
    "\n",
    "# test the function\n",
    "n = int(input(\"Enter a non-negative integer: \"))\n",
    "if n < 0:\n",
    "    print(\"Invalid input.\")\n",
    "else:\n",
    "    print(\"The factorial of\", n, \"is\", factorial(n))\n"
   ]
  },
  {
   "cell_type": "code",
   "execution_count": 22,
   "metadata": {},
   "outputs": [
    {
     "name": "stdout",
     "output_type": "stream",
     "text": [
      "The 9 th term in the Fibonacci series is 34\n"
     ]
    }
   ],
   "source": [
    "def fibonacci(n):\n",
    "    if n == 1 or n == 2:\n",
    "        return 1\n",
    "    else:\n",
    "        return fibonacci(n-1) + fibonacci(n-2)\n",
    "\n",
    "# test the function\n",
    "n = int(input(\"Enter a positive integer: \"))\n",
    "if n < 1:\n",
    "    print(\"Invalid input.\")\n",
    "else:\n",
    "    print(\"The\", n, \"th term in the Fibonacci series is\", fibonacci(n))\n"
   ]
  },
  {
   "cell_type": "code",
   "execution_count": null,
   "metadata": {},
   "outputs": [],
   "source": []
  }
 ],
 "metadata": {
  "kernelspec": {
   "display_name": "Python 3",
   "language": "python",
   "name": "python3"
  },
  "language_info": {
   "codemirror_mode": {
    "name": "ipython",
    "version": 3
   },
   "file_extension": ".py",
   "mimetype": "text/x-python",
   "name": "python",
   "nbconvert_exporter": "python",
   "pygments_lexer": "ipython3",
   "version": "3.11.2"
  },
  "orig_nbformat": 4,
  "vscode": {
   "interpreter": {
    "hash": "5238573367df39f7286bb46f9ff5f08f63a01a80960060ce41e3c79b190280fa"
   }
  }
 },
 "nbformat": 4,
 "nbformat_minor": 2
}
